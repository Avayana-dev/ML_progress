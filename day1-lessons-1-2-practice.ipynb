{
 "cells": [
  {
   "cell_type": "code",
   "execution_count": 1,
   "id": "16923eb5",
   "metadata": {
    "execution": {
     "iopub.execute_input": "2025-10-28T12:09:43.420100Z",
     "iopub.status.busy": "2025-10-28T12:09:43.419778Z",
     "iopub.status.idle": "2025-10-28T12:09:45.277055Z",
     "shell.execute_reply": "2025-10-28T12:09:45.275808Z"
    },
    "papermill": {
     "duration": 1.861955,
     "end_time": "2025-10-28T12:09:45.278558",
     "exception": false,
     "start_time": "2025-10-28T12:09:43.416603",
     "status": "completed"
    },
    "tags": []
   },
   "outputs": [
    {
     "name": "stdout",
     "output_type": "stream",
     "text": [
      "All libraries imported!\n"
     ]
    }
   ],
   "source": [
    "# Import all libraries at the top\n",
    "import pandas as pd\n",
    "import numpy as np\n",
    "import matplotlib.pyplot as plt\n",
    "print(\"All libraries imported!\")"
   ]
  },
  {
   "cell_type": "code",
   "execution_count": 2,
   "id": "9057856f",
   "metadata": {
    "execution": {
     "iopub.execute_input": "2025-10-28T12:09:45.283969Z",
     "iopub.status.busy": "2025-10-28T12:09:45.283065Z",
     "iopub.status.idle": "2025-10-28T12:09:45.289093Z",
     "shell.execute_reply": "2025-10-28T12:09:45.288272Z"
    },
    "papermill": {
     "duration": 0.009816,
     "end_time": "2025-10-28T12:09:45.290526",
     "exception": false,
     "start_time": "2025-10-28T12:09:45.280710",
     "status": "completed"
    },
    "tags": []
   },
   "outputs": [
    {
     "name": "stdout",
     "output_type": "stream",
     "text": [
      "My First Ml- practice , Decision tree concept\n",
      "Bedrooms:  [1, 2, 3, 4, 5]\n",
      "prices:  [100, 200, 300, 400]\n",
      "\n",
      " house with 4 rooms : price is not affordable \n"
     ]
    }
   ],
   "source": [
    "#Lesson 1 : Practice understanding decision tree\n",
    "\n",
    "print(\"My First Ml- practice , Decision tree concept\")\n",
    "\n",
    "#Imagine we are predicting the house prices\n",
    "bedrooms = [1,2,3,4,5]\n",
    "prices = [100,200,300,400]\n",
    "\n",
    "print(\"Bedrooms: \", bedrooms)\n",
    "print (\"prices: \", prices)\n",
    "\n",
    "#Now simple model if bedrooms > 3,price is high\n",
    "def simple_decision_tree(bedrooms):\n",
    "   \n",
    "    if bedrooms <= 3 :\n",
    "        return \"affordable\"\n",
    "    else :\n",
    "        return \"not affordable\"\n",
    "\n",
    "#test our model\n",
    "\n",
    "test_house = 4\n",
    "\n",
    "prediction = simple_decision_tree(test_house)\n",
    "\n",
    "print(f\"\\n house with {test_house} rooms : price is {prediction} \")"
   ]
  },
  {
   "cell_type": "code",
   "execution_count": 3,
   "id": "8728e0da",
   "metadata": {
    "execution": {
     "iopub.execute_input": "2025-10-28T12:09:45.295280Z",
     "iopub.status.busy": "2025-10-28T12:09:45.294513Z",
     "iopub.status.idle": "2025-10-28T12:09:45.330870Z",
     "shell.execute_reply": "2025-10-28T12:09:45.329829Z"
    },
    "papermill": {
     "duration": 0.04026,
     "end_time": "2025-10-28T12:09:45.332507",
     "exception": false,
     "start_time": "2025-10-28T12:09:45.292247",
     "status": "completed"
    },
    "tags": []
   },
   "outputs": [
    {
     "name": "stdout",
     "output_type": "stream",
     "text": [
      "My housing data set\n",
      "   bedrooms  price  area\n",
      "0         1    100   120\n",
      "1         2    200   340\n",
      "2         3    300  1200\n",
      "3         4    400   123\n",
      "4         5    200   245\n",
      "5         3    150   450\n",
      "6         1    300   200\n",
      "\n",
      " Dataset Info:\n",
      "Shape: (7, 3)\n",
      "\n",
      "First 3 rows:\n",
      "   bedrooms  price  area\n",
      "0         1    100   120\n",
      "1         2    200   340\n",
      "2         3    300  1200\n",
      "\n",
      "Basic statistics:\n",
      "       bedrooms       price         area\n",
      "count  7.000000    7.000000     7.000000\n",
      "mean   2.714286  235.714286   382.571429\n",
      "std    1.496026  102.933173   379.281715\n",
      "min    1.000000  100.000000   120.000000\n",
      "25%    1.500000  175.000000   161.500000\n",
      "50%    3.000000  200.000000   245.000000\n",
      "75%    3.500000  300.000000   395.000000\n",
      "max    5.000000  400.000000  1200.000000\n"
     ]
    }
   ],
   "source": [
    "# Lesson 2 Basic Data Exploration\n",
    "\n",
    "import pandas as pd\n",
    "\n",
    "\n",
    "# create sample housing data\n",
    "\n",
    "data  = {\n",
    "    'bedrooms' : [1,2,3,4,5,3,1],\n",
    "    'price' : [100,200,300,400,200,150,300],\n",
    "    'area' : [120,340,1200,123,245,450,200]}\n",
    "\n",
    "df = pd.DataFrame(data)\n",
    "print(\"My housing data set\")\n",
    "print(df)\n",
    "\n",
    "# Basic exploration (like in lesson)\n",
    "print(\"\\n Dataset Info:\")\n",
    "print(\"Shape:\", df.shape)\n",
    "print(\"\\nFirst 3 rows:\")\n",
    "print(df.head(3))\n",
    "print(\"\\nBasic statistics:\")\n",
    "print(df.describe())\n",
    "\n",
    "\n"
   ]
  }
 ],
 "metadata": {
  "kaggle": {
   "accelerator": "none",
   "dataSources": [],
   "dockerImageVersionId": 31153,
   "isGpuEnabled": false,
   "isInternetEnabled": false,
   "language": "python",
   "sourceType": "notebook"
  },
  "kernelspec": {
   "display_name": "Python 3",
   "language": "python",
   "name": "python3"
  },
  "language_info": {
   "codemirror_mode": {
    "name": "ipython",
    "version": 3
   },
   "file_extension": ".py",
   "mimetype": "text/x-python",
   "name": "python",
   "nbconvert_exporter": "python",
   "pygments_lexer": "ipython3",
   "version": "3.11.13"
  },
  "papermill": {
   "default_parameters": {},
   "duration": 7.042696,
   "end_time": "2025-10-28T12:09:45.854498",
   "environment_variables": {},
   "exception": null,
   "input_path": "__notebook__.ipynb",
   "output_path": "__notebook__.ipynb",
   "parameters": {},
   "start_time": "2025-10-28T12:09:38.811802",
   "version": "2.6.0"
  }
 },
 "nbformat": 4,
 "nbformat_minor": 5
}
