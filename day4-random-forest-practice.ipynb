{
 "cells": [
  {
   "cell_type": "code",
   "execution_count": 10,
   "metadata": {
    "trusted": true
   },
   "outputs": [
    {
     "name": "stdout",
     "output_type": "stream",
     "text": [
      "Day 4: Random Forest practice\n",
      "Building multiple trees to make better predictions\n"
     ]
    }
   ],
   "source": [
    "#day 4: RAndom Forest Practice\n",
    "#Building on our housing price prediction\n",
    "\n",
    "\n",
    "import pandas as pd\n",
    "import numpy as np\n",
    "from sklearn.tree import DecisionTreeRegressor\n",
    "from sklearn.metrics import mean_absolute_error\n",
    "from sklearn.model_selection import train_test_split\n",
    "from sklearn.ensemble import RandomForestRegressor\n",
    "\n",
    "print(\"Day 4: Random Forest practice\")\n",
    "print(\"Building multiple trees to make better predictions\")"
   ]
  },
  {
   "cell_type": "code",
   "execution_count": 11,
   "metadata": {
    "trusted": true
   },
   "outputs": [
    {
     "name": "stdout",
     "output_type": "stream",
     "text": [
      "Quick Housing Data:     size  bedrooms   price\n",
      "0  2126         2  305162\n",
      "1  2459         4  349445\n",
      "2  1860         2  246663\n",
      "3  2294         2  324166\n",
      "4  2130         4  310994\n"
     ]
    }
   ],
   "source": [
    "np.random.seed(42)\n",
    "\n",
    "#simple housing data\n",
    "size =np.random.randint(1000,3000,100)\n",
    "bedrooms = np.random.randint(1,6,100)\n",
    "price = size*100 + 50000 +bedrooms*15000 +np.random.randint(-20000,20000,100)\n",
    "\n",
    "housing_data = pd.DataFrame({\n",
    "    'size': size,\n",
    "    'bedrooms': bedrooms,\n",
    "    'price': price\n",
    "})\n",
    "\n",
    "print(\"Quick Housing Data: \" , housing_data.head())"
   ]
  },
  {
   "cell_type": "code",
   "execution_count": 12,
   "metadata": {
    "trusted": true
   },
   "outputs": [
    {
     "name": "stdout",
     "output_type": "stream",
     "text": [
      "Data Ready: \n",
      "training: 80 houses\n",
      " Testing: 20 houses\n"
     ]
    }
   ],
   "source": [
    "#splitting the data\n",
    "\n",
    "X = housing_data[['size','bedrooms']]\n",
    "y = housing_data['price']\n",
    "\n",
    "X_train, X_test , y_train , y_test = train_test_split(X, y, test_size = 0.2, random_state = 42)\n",
    "\n",
    "print(\"Data Ready: \")\n",
    "print(f\"training: {X_train.shape[0]} houses\" )\n",
    "print(f\" Testing: {X_test.shape[0]} houses\")"
   ]
  },
  {
   "cell_type": "code",
   "execution_count": 13,
   "metadata": {
    "trusted": true
   },
   "outputs": [
    {
     "name": "stdout",
     "output_type": "stream",
     "text": [
      "comparing the single Tree Vs Random Forest\n"
     ]
    },
    {
     "name": "stdout",
     "output_type": "stream",
     "text": [
      "single Tree error $19,643\n",
      "Random forest error $15,784\n",
      " Improvements:      $3,858 better!\n"
     ]
    }
   ],
   "source": [
    "print(\"comparing the single Tree Vs Random Forest\")\n",
    "\n",
    "#single DecisionTree\n",
    "\n",
    "single_tree =DecisionTreeRegressor(random_state = 42)\n",
    "single_tree.fit(X_train, y_train)\n",
    "\n",
    "single_predictions = single_tree.predict(X_test)\n",
    "single_mae = mean_absolute_error(y_test, single_predictions)\n",
    "\n",
    "#random Forest (many or multiple trees)\n",
    "forest = RandomForestRegressor(random_state = 42 , n_estimators = 10)\n",
    "\n",
    "forest.fit(X_train, y_train)\n",
    "\n",
    "forest_predictions = forest.predict(X_test)\n",
    "forest_mae = mean_absolute_error(y_test, forest_predictions)\n",
    "\n",
    "\n",
    "print(f\"single Tree error ${single_mae:,.0f}\")\n",
    "print(f\"Random forest error ${forest_mae:,.0f}\")\n",
    "print (f\" Improvements:      ${single_mae-forest_mae:,.0f} better!\")"
   ]
  },
  {
   "cell_type": "code",
   "execution_count": 14,
   "metadata": {
    "trusted": true
   },
   "outputs": [
    {
     "name": "stdout",
     "output_type": "stream",
     "text": [
      "\n",
      "Day 4 Key Learnings - Random Forests:\n",
      "\n",
      "Single Decision Tree:\n",
      "Makes decisions alone,Error: $19,643, Can overfit easily\n",
      "\n",
      "Random Forest:\n",
      "Many trees voting together,Error: $15,784,More stable and accurate\n",
      "\n",
      "\n",
      "Why Random Forests Work Better\n",
      "Multiple trees = multiple opinions,Averages out mistakes, Less likely to overfit\n",
      "\n",
      "Result are here: Random Forest was $3,858 more accurate!\n",
      "\n"
     ]
    }
   ],
   "source": [
    "#Key learnings of the day 4\n",
    "learnings = f\"\"\"\n",
    "Day 4 Key Learnings - Random Forests:\n",
    "\n",
    "Single Decision Tree:\n",
    "Makes decisions alone,Error: ${single_mae:,.0f}, Can overfit easily\n",
    "\n",
    "Random Forest:\n",
    "Many trees voting together,Error: ${forest_mae:,.0f},More stable and accurate\n",
    "\n",
    "\n",
    "Why Random Forests Work Better\n",
    "Multiple trees = multiple opinions,Averages out mistakes, Less likely to overfit\n",
    "\n",
    "Result are here: Random Forest was ${single_mae - forest_mae:,.0f} more accurate!\n",
    "\"\"\"\n",
    "\n",
    "print(learnings)"
   ]
  }
 ],
 "metadata": {
  "kaggle": {
   "accelerator": "none",
   "dataSources": [],
   "dockerImageVersionId": 31153,
   "isGpuEnabled": false,
   "isInternetEnabled": false,
   "language": "python",
   "sourceType": "notebook"
  },
  "kernelspec": {
   "display_name": "base",
   "language": "python",
   "name": "python3"
  },
  "language_info": {
   "codemirror_mode": {
    "name": "ipython",
    "version": 3
   },
   "file_extension": ".py",
   "mimetype": "text/x-python",
   "name": "python",
   "nbconvert_exporter": "python",
   "pygments_lexer": "ipython3",
   "version": "3.12.7"
  }
 },
 "nbformat": 4,
 "nbformat_minor": 4
}
